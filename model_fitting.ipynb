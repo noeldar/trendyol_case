{
 "cells": [
  {
   "cell_type": "code",
   "execution_count": 31,
   "metadata": {},
   "outputs": [],
   "source": [
    "import pandas as pd\n",
    "import seaborn as sns\n",
    "import matplotlib.pyplot as plt\n",
    "import numpy as np\n",
    "import glob\n",
    "import os\n",
    "from datetime import timedelta\n",
    "import copy\n",
    "import datetime, calendar\n",
    "import shap\n",
    "from sklearn.linear_model import LogisticRegression\n",
    "from xgboost import XGBClassifier\n",
    "from sklearn.model_selection import GridSearchCV\n",
    "from sklearn.metrics import precision_recall_fscore_support\n",
    "from sklearn.preprocessing import PowerTransformer\n",
    "from sklearn.compose import ColumnTransformer\n",
    "from sklearn.pipeline import Pipeline\n",
    "from sklearn import metrics\n",
    "from sklearn.metrics import roc_auc_score\n",
    "from sklearn.metrics import average_precision_score\n",
    "from imblearn.over_sampling import SMOTE"
   ]
  },
  {
   "attachments": {},
   "cell_type": "markdown",
   "metadata": {},
   "source": [
    "## Inits"
   ]
  },
  {
   "cell_type": "code",
   "execution_count": 32,
   "metadata": {},
   "outputs": [],
   "source": [
    "year = 2020\n",
    "month = 10\n",
    "num_days = calendar.monthrange(year, month)[1]\n",
    "days = [datetime.date(year, month, day) for day in range(1, num_days+1)]\n",
    "\n",
    "pt = PowerTransformer()\n",
    "\n",
    "model_dict = {\n",
    "    \"lr\": LogisticRegression(),\n",
    "    \"xgb\": XGBClassifier(),\n",
    "    \n",
    "}\n",
    "\n"
   ]
  },
  {
   "cell_type": "code",
   "execution_count": 33,
   "metadata": {},
   "outputs": [],
   "source": [
    "# train/test split\n",
    "def split_func(input, target, features):\n",
    "  y_train = input.loc[input[\"split\"] == \"train\", target]\n",
    "  y_test = input.loc[input[\"split\"] == \"test\", target]\n",
    "          \n",
    "  X_train = input.loc[input[\"split\"] == \"train\", features]\n",
    "  X_test = input.loc[input[\"split\"] == \"test\", features]\n",
    "\n",
    "  return X_train, y_train, X_test, y_test\n",
    "\n",
    "\n",
    "# Define method for feature elimination according to correlation\n",
    "\n",
    "def correlation(dataset, threshold):\n",
    "    \n",
    "    col_corr = set() # Set of all the names of deleted columns\n",
    "    corr_matrix = abs(dataset.corr())\n",
    "    \n",
    "    for i in range(len(corr_matrix.columns)):\n",
    "        for j in range(i):\n",
    "            if (corr_matrix.iloc[i, j] >= threshold) and (corr_matrix.columns[j] not in col_corr):\n",
    "                colname = corr_matrix.columns[i] # getting the name of column\n",
    "                col_corr.add(colname)\n",
    "                if colname in dataset.columns:\n",
    "                    del dataset[colname] # deleting the column from the dataset\n",
    "\n",
    "    return col_corr\n",
    "\n",
    "\n",
    "\n",
    "\n"
   ]
  },
  {
   "attachments": {},
   "cell_type": "markdown",
   "metadata": {},
   "source": [
    "## Pipeline"
   ]
  },
  {
   "cell_type": "code",
   "execution_count": 47,
   "metadata": {},
   "outputs": [
    {
     "name": "stdout",
     "output_type": "stream",
     "text": [
      "2020-10-01\n",
      "(4281, 9) 7\n",
      "(4281, 9) 357\n",
      "2020-10-02\n",
      "(6237, 10) 0\n",
      "(6237, 10) 480\n",
      "2020-10-03\n",
      "(7495, 10) 0\n",
      "(7495, 10) 777\n",
      "2020-10-04\n",
      "(8781, 11) 33\n",
      "(8781, 11) 1129\n",
      "2020-10-05\n",
      "(13966, 11) 10\n",
      "(13966, 11) 1685\n",
      "2020-10-06\n",
      "(23252, 11) 1\n",
      "(23252, 11) 1256\n",
      "2020-10-07\n",
      "(24961, 11) 0\n",
      "(24961, 11) 856\n",
      "2020-10-08\n",
      "(26648, 10) 0\n",
      "(26648, 10) 363\n",
      "2020-10-09\n",
      "(20512, 10) 6\n",
      "(20512, 10) 366\n",
      "2020-10-10\n",
      "(18648, 10) 10\n",
      "(18648, 10) 446\n",
      "2020-10-11\n",
      "(18271, 10) 3\n",
      "(18271, 10) 372\n",
      "2020-10-12\n",
      "(19250, 10) 7\n",
      "(19250, 10) 489\n",
      "2020-10-13\n",
      "(19234, 10) 11\n",
      "(19234, 10) 541\n",
      "2020-10-14\n",
      "(19125, 11) 20\n",
      "(19125, 11) 440\n",
      "2020-10-15\n",
      "(18869, 10) 12\n",
      "(18869, 10) 405\n",
      "2020-10-16\n",
      "(19389, 11) 6\n",
      "(19389, 11) 343\n",
      "2020-10-17\n",
      "(19700, 11) 8\n",
      "(19700, 11) 524\n",
      "2020-10-18\n",
      "(21268, 11) 6\n",
      "(21268, 11) 555\n",
      "2020-10-19\n",
      "(21705, 10) 21\n",
      "(21705, 10) 579\n",
      "2020-10-20\n",
      "(23342, 10) 12\n",
      "(23342, 10) 632\n",
      "2020-10-21\n",
      "(24356, 10) 20\n",
      "(24356, 10) 448\n",
      "2020-10-22\n",
      "(23350, 10) 24\n",
      "(23350, 10) 407\n",
      "2020-10-23\n",
      "(21945, 10) 18\n",
      "(21945, 10) 357\n",
      "2020-10-24\n",
      "(22316, 9) 10\n",
      "(22316, 9) 319\n",
      "2020-10-25\n",
      "(22114, 10) 19\n",
      "(22114, 10) 402\n",
      "2020-10-26\n",
      "(23635, 10) 14\n",
      "(23635, 10) 395\n",
      "2020-10-27\n",
      "(22912, 9) 25\n",
      "(22912, 9) 309\n",
      "2020-10-28\n",
      "(22829, 9) 14\n",
      "(22829, 9) 236\n",
      "2020-10-29\n",
      "(23934, 9) 1\n",
      "(23934, 9) 114\n",
      "2020-10-30\n",
      "(21630, 9) 0\n",
      "(21630, 9) 64\n",
      "2020-10-31\n",
      "(21524, 9) 0\n",
      "(21524, 9) 7\n"
     ]
    }
   ],
   "source": [
    "import warnings\n",
    "warnings.filterwarnings('ignore')\n",
    "\n",
    "\n",
    "pipe_dict = {}\n",
    "\n",
    "fitted_pipe_dict = {\n",
    "    \"lr\": {\"roc_auc\":[], \"f1\":[], \"pr_auc\":[]},\n",
    "    \"xgb\": {\"roc_auc\":[], \"f1\":[], \"pr_auc\":[]},\n",
    "    \n",
    "}\n",
    "\n",
    "for the_day in days:\n",
    "\n",
    "    the_day = the_day.strftime('%Y-%m-%d')\n",
    "    train_test_df = pd.read_pickle(f'./data/train_test_df_{the_day}.pkl')\n",
    "    correlation(train_test_df, 0.7)\n",
    "    print(the_day)\n",
    "\n",
    "    # algorithm loop\n",
    "    for algorithm_name, model in model_dict.items():\n",
    "\n",
    "\n",
    "        continous = [x for x in copy.deepcopy(train_test_df.columns.to_list()) if x not in [\"userid\", \"currentbugroupname\", \"label\", \"split\", \"same_gender\", \"same_age\"]]\n",
    "        cats = [x for x in copy.deepcopy(train_test_df.columns.to_list()) if x in [\"same_gender\", \"same_age\"]]\n",
    "        feats = continous + cats\n",
    "\n",
    "        #print(feats)\n",
    "\n",
    "        # train test split\n",
    "        X_train, y_train, X_test, y_test = split_func(train_test_df, \"label\", feats)\n",
    "\n",
    "        # transform the dataset\n",
    "        #oversample = SMOTE(sampling_strategy='minority', k_neighbors=5)\n",
    "        #X_train, y_train = oversample.fit_resample(X_train, y_train)\n",
    "\n",
    "        # pipeline\n",
    "        ct = ColumnTransformer([('norm_cnt', pt, continous)], remainder='passthrough', n_jobs=1)  \n",
    "        pipe = Pipeline([(\"ct\",ct),(algorithm_name, model)])\n",
    "        pipe.fit(X_train, y_train)\n",
    "\n",
    "        # save pipe\n",
    "        pipe_dict[algorithm_name] = pipe\n",
    "        \n",
    "\n",
    "        # pred features\n",
    "        pred_test = pipe.predict(X_test)\n",
    "        pred_proba_test = pipe.predict_proba(X_test)\n",
    "\n",
    "        pos_preds = [x for x in pred_test if x == 1.0]\n",
    "        #print(X_test.shape, len(pos_preds))\n",
    "\n",
    "\n",
    "        #metrics\n",
    "        met = precision_recall_fscore_support(y_test, pred_test, average='weighted')\n",
    "        aps = average_precision_score(y_test, pred_proba_test[:,1], average='micro', pos_label=1.0)\n",
    "        auc =roc_auc_score(y_test, pred_proba_test[:,1])\n",
    "\n",
    "        fitted_pipe_dict[f\"{algorithm_name}\"][\"f1\"].append(met[2])\n",
    "        fitted_pipe_dict[f\"{algorithm_name}\"][\"roc_auc\"].append(auc)\n",
    "        fitted_pipe_dict[f\"{algorithm_name}\"][\"pr_auc\"].append(aps)\n",
    "        #print(f\"{algorithm_name}\", met, aps, auc)\n",
    "\n",
    "\n",
    "\n"
   ]
  },
  {
   "cell_type": "code",
   "execution_count": 35,
   "metadata": {},
   "outputs": [
    {
     "data": {
      "text/html": [
       "<div>\n",
       "<style scoped>\n",
       "    .dataframe tbody tr th:only-of-type {\n",
       "        vertical-align: middle;\n",
       "    }\n",
       "\n",
       "    .dataframe tbody tr th {\n",
       "        vertical-align: top;\n",
       "    }\n",
       "\n",
       "    .dataframe thead th {\n",
       "        text-align: right;\n",
       "    }\n",
       "</style>\n",
       "<table border=\"1\" class=\"dataframe\">\n",
       "  <thead>\n",
       "    <tr style=\"text-align: right;\">\n",
       "      <th></th>\n",
       "      <th>lr</th>\n",
       "      <th>xgb</th>\n",
       "    </tr>\n",
       "  </thead>\n",
       "  <tbody>\n",
       "    <tr>\n",
       "      <th>roc_auc</th>\n",
       "      <td>0.645983</td>\n",
       "      <td>0.593772</td>\n",
       "    </tr>\n",
       "    <tr>\n",
       "      <th>f1</th>\n",
       "      <td>0.841690</td>\n",
       "      <td>0.840509</td>\n",
       "    </tr>\n",
       "    <tr>\n",
       "      <th>pr_auc</th>\n",
       "      <td>0.162922</td>\n",
       "      <td>0.140354</td>\n",
       "    </tr>\n",
       "  </tbody>\n",
       "</table>\n",
       "</div>"
      ],
      "text/plain": [
       "               lr       xgb\n",
       "roc_auc  0.645983  0.593772\n",
       "f1       0.841690  0.840509\n",
       "pr_auc   0.162922  0.140354"
      ]
     },
     "metadata": {},
     "output_type": "display_data"
    }
   ],
   "source": [
    "## Results\n",
    "for key1 in fitted_pipe_dict.keys():\n",
    "    for key2 in fitted_pipe_dict[key1].keys():\n",
    "\n",
    "        fitted_pipe_dict[key1][key2] = np.mean(np.asarray(fitted_pipe_dict[key1][key2]))\n",
    "\n",
    "display(pd.DataFrame.from_dict(fitted_pipe_dict, orient='columns'))"
   ]
  },
  {
   "attachments": {},
   "cell_type": "markdown",
   "metadata": {},
   "source": [
    "## Feature Importance"
   ]
  },
  {
   "cell_type": "code",
   "execution_count": 36,
   "metadata": {},
   "outputs": [],
   "source": [
    "# shap plot\n",
    "def shap_plot(algorithm_name, train_input, test_input, categorial_feats, continous_feats, categorial_scaler, continous_scaler, pipeline):\n",
    "\n",
    "      X_test_transformed = pipeline[\"ct\"].transform(test_input)\n",
    "      X_test_transformed_df = pd.DataFrame(X_test_transformed.astype(float), columns =  continous_feats + categorial_feats)\n",
    "\n",
    "\n",
    "      if algorithm_name != \"lr\":\n",
    "          shap_explainer = shap.TreeExplainer(pipeline[algorithm_name])\n",
    "      else:\n",
    "          print(X_test_transformed_df.shape)\n",
    "          print(X_test_transformed.shape)\n",
    "          shap_explainer = shap.LinearExplainer(pipeline[algorithm_name], X_test_transformed)\n",
    "\n",
    "      shap_values = shap_explainer.shap_values(X_test_transformed)\n",
    "\n",
    "\n",
    "      shap.summary_plot(shap_values.astype(float),\n",
    "                                  X_test_transformed_df,\n",
    "                                  show=False)\n",
    "      plt.show()"
   ]
  },
  {
   "cell_type": "code",
   "execution_count": 37,
   "metadata": {},
   "outputs": [
    {
     "name": "stdout",
     "output_type": "stream",
     "text": [
      "(21524, 9)\n",
      "(21524, 9)\n"
     ]
    },
    {
     "data": {
      "image/png": "[encoded data removed]",
      "text/plain": [
       "<Figure size 800x510 with 2 Axes>"
      ]
     },
     "metadata": {},
     "output_type": "display_data"
    }
   ],
   "source": [
    "shap_plot(\"lr\", \n",
    "          X_train, \n",
    "          X_test, \n",
    "          cats, \n",
    "          continous, \n",
    "          None, \n",
    "          pipe_dict[\"lr\"][\"ct\"].transformers[0][1], \n",
    "          pipe_dict[\"lr\"])"
   ]
  },
  {
   "attachments": {},
   "cell_type": "markdown",
   "metadata": {},
   "source": [
    "# Inference for df_test"
   ]
  },
  {
   "cell_type": "code",
   "execution_count": 51,
   "metadata": {},
   "outputs": [
    {
     "name": "stdout",
     "output_type": "stream",
     "text": [
      "0\n"
     ]
    }
   ],
   "source": [
    "df_test = pd.read_pickle(f'./data/df_test_features.csv.pkl')\n",
    "#print(df_test.columns.values)\n",
    "\n",
    "# pred features\n",
    "pred_test = pipe_dict[\"lr\"].predict(df_test[feats])\n",
    "pred_proba_test = pipe_dict[\"lr\"].predict_proba(df_test[feats])\n",
    "\n",
    "pos_preds = [x for x in pred_test if x == 1.0]\n",
    "print(len(pos_preds))\n",
    "\n",
    "#fill necessary features\n",
    "df_test[\"probability\"] = pred_proba_test[:,1]\n",
    "df_test[\"target\"] = pred_test\n",
    "\n",
    "#save the df_test\n",
    "df_test[[\"userid\", \"currentbugroupname\", \"probability\", \"target\"]].to_csv(\"./df_test.csv\")"
   ]
  },
  {
   "cell_type": "code",
   "execution_count": null,
   "metadata": {},
   "outputs": [],
   "source": []
  },
  {
   "cell_type": "code",
   "execution_count": null,
   "metadata": {},
   "outputs": [],
   "source": []
  },
  {
   "cell_type": "code",
   "execution_count": null,
   "metadata": {},
   "outputs": [],
   "source": []
  },
  {
   "cell_type": "code",
   "execution_count": null,
   "metadata": {},
   "outputs": [],
   "source": []
  },
  {
   "cell_type": "code",
   "execution_count": null,
   "metadata": {},
   "outputs": [],
   "source": []
  },
  {
   "cell_type": "code",
   "execution_count": null,
   "metadata": {},
   "outputs": [],
   "source": []
  },
  {
   "cell_type": "code",
   "execution_count": null,
   "metadata": {},
   "outputs": [],
   "source": []
  },
  {
   "cell_type": "code",
   "execution_count": null,
   "metadata": {},
   "outputs": [],
   "source": []
  },
  {
   "cell_type": "code",
   "execution_count": null,
   "metadata": {},
   "outputs": [],
   "source": []
  }
 ],
 "metadata": {
  "kernelspec": {
   "display_name": "Python 3",
   "language": "python",
   "name": "python3"
  },
  "language_info": {
   "codemirror_mode": {
    "name": "ipython",
    "version": 3
   },
   "file_extension": ".py",
   "mimetype": "text/x-python",
   "name": "python",
   "nbconvert_exporter": "python",
   "pygments_lexer": "ipython3",
   "version": "3.7.9"
  },
  "orig_nbformat": 4,
  "vscode": {
   "interpreter": {
    "hash": "aee8b7b246df8f9039afb4144a1f6fd8d2ca17a180786b69acc140d282b71a49"
   }
  }
 },
 "nbformat": 4,
 "nbformat_minor": 2
}
